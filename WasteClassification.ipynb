{
  "nbformat": 4,
  "nbformat_minor": 0,
  "metadata": {
    "colab": {
      "provenance": []
    },
    "kernelspec": {
      "name": "python3",
      "display_name": "Python 3"
    },
    "language_info": {
      "name": "python"
    }
  },
  "cells": [
    {
      "cell_type": "code",
      "source": [
        "\n",
        "!git clone \"https://github.com/Avikkumar71/Waste-Classification-Dataset-\""
      ],
      "metadata": {
        "colab": {
          "base_uri": "https://localhost:8080/"
        },
        "id": "5mJJHsoWA9en",
        "outputId": "e416545f-1377-4155-b15f-c667622471d7"
      },
      "execution_count": null,
      "outputs": [
        {
          "output_type": "stream",
          "name": "stdout",
          "text": [
            "Cloning into 'Waste-Classification-Dataset-'...\n",
            "remote: Enumerating objects: 24759, done.\u001b[K\n",
            "remote: Total 24759 (delta 0), reused 0 (delta 0), pack-reused 24759\u001b[K\n",
            "Receiving objects: 100% (24759/24759), 207.36 MiB | 32.44 MiB/s, done.\n",
            "Updating files: 100% (25077/25077), done.\n"
          ]
        }
      ]
    },
    {
      "cell_type": "code",
      "execution_count": null,
      "metadata": {
        "id": "-8Pw-Rb375q_"
      },
      "outputs": [],
      "source": [
        "import tensorflow as tf\n",
        "from keras.preprocessing.image import ImageDataGenerator"
      ]
    },
    {
      "cell_type": "code",
      "source": [
        "import pandas as pd"
      ],
      "metadata": {
        "id": "yz31N-_w-qZd"
      },
      "execution_count": null,
      "outputs": []
    },
    {
      "cell_type": "code",
      "source": [
        "train_datagen = ImageDataGenerator(rescale = 1./255,\n",
        "                                   shear_range = 0.2,\n",
        "                                   zoom_range = 0.2,\n",
        "                                   horizontal_flip = True)\n",
        "\n",
        "training_set = train_datagen.flow_from_directory('/content/Waste-Classification-Dataset-/TRAIN',\n",
        "                                                 target_size = (64, 64),\n",
        "                                                 batch_size = 32,\n",
        "                                                 class_mode = 'binary')\n"
      ],
      "metadata": {
        "colab": {
          "base_uri": "https://localhost:8080/"
        },
        "id": "ygwGuBLF-wKV",
        "outputId": "aeea6eb9-14f5-4e69-ee44-84f3174707ac"
      },
      "execution_count": null,
      "outputs": [
        {
          "output_type": "stream",
          "name": "stdout",
          "text": [
            "Found 22564 images belonging to 2 classes.\n"
          ]
        }
      ]
    },
    {
      "cell_type": "code",
      "source": [
        "test_datagen = ImageDataGenerator(rescale = 1./255)\n",
        "test_set = test_datagen.flow_from_directory('/content/Waste-Classification-Dataset-/TEST',\n",
        "                                            target_size = (64, 64),\n",
        "                                            batch_size = 32,\n",
        "                                            class_mode = 'binary')"
      ],
      "metadata": {
        "colab": {
          "base_uri": "https://localhost:8080/"
        },
        "id": "2p15SCp0-yqm",
        "outputId": "a45204da-1599-456e-af51-7c05f48d63f1"
      },
      "execution_count": null,
      "outputs": [
        {
          "output_type": "stream",
          "name": "stdout",
          "text": [
            "Found 2513 images belonging to 2 classes.\n"
          ]
        }
      ]
    },
    {
      "cell_type": "code",
      "source": [
        "cnn = tf.keras.models.Sequential()"
      ],
      "metadata": {
        "id": "30IB08Mk-07j"
      },
      "execution_count": null,
      "outputs": []
    },
    {
      "cell_type": "code",
      "source": [
        "cnn.add(tf.keras.layers.Conv2D(filters=32, kernel_size=3, activation='relu',\n",
        "                               input_shape=[64, 64, 3]))"
      ],
      "metadata": {
        "id": "Yx9E84Zj-2pd"
      },
      "execution_count": null,
      "outputs": []
    },
    {
      "cell_type": "code",
      "source": [
        "cnn.add(tf.keras.layers.MaxPool2D(pool_size=2, strides=2))"
      ],
      "metadata": {
        "id": "IbodPgHj-419"
      },
      "execution_count": null,
      "outputs": []
    },
    {
      "cell_type": "code",
      "source": [
        "cnn.add(tf.keras.layers.Conv2D(filters=32, kernel_size=3, activation='relu'))\n",
        "cnn.add(tf.keras.layers.MaxPool2D(pool_size=2, strides=2))"
      ],
      "metadata": {
        "id": "SpY8o50W-6aE"
      },
      "execution_count": null,
      "outputs": []
    },
    {
      "cell_type": "code",
      "source": [
        "cnn.add(tf.keras.layers.Flatten())"
      ],
      "metadata": {
        "id": "r-Te_NpN-88r"
      },
      "execution_count": null,
      "outputs": []
    },
    {
      "cell_type": "code",
      "source": [
        "cnn.add(tf.keras.layers.Dense(units=128, activation='relu'))"
      ],
      "metadata": {
        "id": "zdBbOr-J--6J"
      },
      "execution_count": null,
      "outputs": []
    },
    {
      "cell_type": "code",
      "source": [
        "cnn.add(tf.keras.layers.Dense(units=1, activation='sigmoid'))"
      ],
      "metadata": {
        "id": "wJ7tNIwD_C7P"
      },
      "execution_count": null,
      "outputs": []
    },
    {
      "cell_type": "code",
      "source": [
        "cnn.compile(optimizer = 'adam', loss = 'binary_crossentropy', metrics = ['accuracy'])"
      ],
      "metadata": {
        "id": "bmkI4hfw_E3v"
      },
      "execution_count": null,
      "outputs": []
    },
    {
      "cell_type": "code",
      "source": [
        "cnn.fit(x = training_set, validation_data = test_set, epochs = 10)"
      ],
      "metadata": {
        "colab": {
          "base_uri": "https://localhost:8080/"
        },
        "id": "ZWWgsMA0_Gr7",
        "outputId": "feea5007-787a-4d98-f3de-4cec2dff56ca"
      },
      "execution_count": null,
      "outputs": [
        {
          "output_type": "stream",
          "name": "stdout",
          "text": [
            "Epoch 1/10\n",
            "706/706 [==============================] - 129s 181ms/step - loss: 0.4422 - accuracy: 0.8005 - val_loss: 0.3180 - val_accuracy: 0.8822\n",
            "Epoch 2/10\n",
            "706/706 [==============================] - 127s 180ms/step - loss: 0.3925 - accuracy: 0.8275 - val_loss: 0.3213 - val_accuracy: 0.8739\n",
            "Epoch 3/10\n",
            "706/706 [==============================] - 126s 178ms/step - loss: 0.3722 - accuracy: 0.8374 - val_loss: 0.3418 - val_accuracy: 0.8651\n",
            "Epoch 4/10\n",
            "706/706 [==============================] - 126s 179ms/step - loss: 0.3549 - accuracy: 0.8486 - val_loss: 0.3459 - val_accuracy: 0.8571\n",
            "Epoch 5/10\n",
            "706/706 [==============================] - 125s 178ms/step - loss: 0.3368 - accuracy: 0.8558 - val_loss: 0.2978 - val_accuracy: 0.8822\n",
            "Epoch 6/10\n",
            "706/706 [==============================] - 125s 178ms/step - loss: 0.3273 - accuracy: 0.8601 - val_loss: 0.3293 - val_accuracy: 0.8695\n",
            "Epoch 7/10\n",
            "706/706 [==============================] - 125s 177ms/step - loss: 0.3147 - accuracy: 0.8667 - val_loss: 0.3339 - val_accuracy: 0.8810\n",
            "Epoch 8/10\n",
            "706/706 [==============================] - 126s 178ms/step - loss: 0.3099 - accuracy: 0.8711 - val_loss: 0.3507 - val_accuracy: 0.8754\n",
            "Epoch 9/10\n",
            "706/706 [==============================] - 126s 179ms/step - loss: 0.2998 - accuracy: 0.8743 - val_loss: 0.2743 - val_accuracy: 0.9009\n",
            "Epoch 10/10\n",
            "706/706 [==============================] - 127s 180ms/step - loss: 0.2907 - accuracy: 0.8784 - val_loss: 0.3019 - val_accuracy: 0.8834\n"
          ]
        },
        {
          "output_type": "execute_result",
          "data": {
            "text/plain": [
              "<keras.src.callbacks.History at 0x7b9625d43d90>"
            ]
          },
          "metadata": {},
          "execution_count": 36
        }
      ]
    },
    {
      "cell_type": "code",
      "source": [
        "cnn.summary()\n",
        "import numpy as np\n",
        "from keras.preprocessing import image\n",
        "\n",
        "test_image = tf.keras.utils.load_img('/content/Waste-Classification-Dataset-/TEST/O/O_12573.jpg', target_size = (64, 64))\n",
        "#test_image = tf.keras.utils.load_img(test_image)\n",
        "test_image = np.expand_dims(test_image, axis = 0)\n",
        "result = cnn.predict(test_image)\n",
        "training_set.class_indices\n",
        "if result[0][0] == 1:\n",
        "  prediction = 'Recyclabe'\n",
        "else:\n",
        "  prediction = 'Organic'"
      ],
      "metadata": {
        "colab": {
          "base_uri": "https://localhost:8080/"
        },
        "id": "BUBZvFlG_I2S",
        "outputId": "39a6c09f-338f-40cb-a81a-135f793e61a3"
      },
      "execution_count": null,
      "outputs": [
        {
          "output_type": "stream",
          "name": "stdout",
          "text": [
            "Model: \"sequential_1\"\n",
            "_________________________________________________________________\n",
            " Layer (type)                Output Shape              Param #   \n",
            "=================================================================\n",
            " conv2d_2 (Conv2D)           (None, 62, 62, 32)        896       \n",
            "                                                                 \n",
            " max_pooling2d_2 (MaxPoolin  (None, 31, 31, 32)        0         \n",
            " g2D)                                                            \n",
            "                                                                 \n",
            " conv2d_3 (Conv2D)           (None, 29, 29, 32)        9248      \n",
            "                                                                 \n",
            " max_pooling2d_3 (MaxPoolin  (None, 14, 14, 32)        0         \n",
            " g2D)                                                            \n",
            "                                                                 \n",
            " flatten_1 (Flatten)         (None, 6272)              0         \n",
            "                                                                 \n",
            " dense_2 (Dense)             (None, 128)               802944    \n",
            "                                                                 \n",
            " dense_3 (Dense)             (None, 1)                 129       \n",
            "                                                                 \n",
            "=================================================================\n",
            "Total params: 813217 (3.10 MB)\n",
            "Trainable params: 813217 (3.10 MB)\n",
            "Non-trainable params: 0 (0.00 Byte)\n",
            "_________________________________________________________________\n",
            "1/1 [==============================] - 0s 78ms/step\n"
          ]
        }
      ]
    },
    {
      "cell_type": "code",
      "source": [
        "print(prediction)"
      ],
      "metadata": {
        "colab": {
          "base_uri": "https://localhost:8080/"
        },
        "id": "8sv2v6pP_N6J",
        "outputId": "83f27ad5-8b35-4784-9820-e39c247949e7"
      },
      "execution_count": null,
      "outputs": [
        {
          "output_type": "stream",
          "name": "stdout",
          "text": [
            "Organic\n"
          ]
        }
      ]
    }
  ]
}